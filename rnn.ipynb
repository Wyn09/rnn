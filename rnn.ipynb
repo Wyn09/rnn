{
 "cells": [
  {
   "cell_type": "code",
   "execution_count": 81,
   "metadata": {},
   "outputs": [],
   "source": [
    "import torch\n",
    "import torch.nn as nn\n",
    "from torch.nn import functional as F\n",
    "from tqdm import tqdm \n",
    "from torch.utils.data import DataLoader\n",
    "from torchvision.datasets import MNIST\n",
    "from torchvision.transforms import ToTensor"
   ]
  },
  {
   "cell_type": "code",
   "execution_count": 82,
   "metadata": {},
   "outputs": [
    {
     "name": "stdout",
     "output_type": "stream",
     "text": [
      "torch.Size([10, 5, 128])\n",
      "torch.Size([1, 10, 128])\n"
     ]
    }
   ],
   "source": [
    "# (batch_size, seq_len, feature)\n",
    "data = torch.randn(size=(10, 5, 32))\n",
    "rnn = nn.RNN(32, 128, num_layers=1, bidirectional=False, batch_first=True)\n",
    "output, h_n = rnn(data)\n",
    "print(output.shape)\n",
    "print(h_n.shape)"
   ]
  },
  {
   "cell_type": "markdown",
   "metadata": {},
   "source": [
    "RNNCell"
   ]
  },
  {
   "cell_type": "code",
   "execution_count": 83,
   "metadata": {},
   "outputs": [
    {
     "name": "stdout",
     "output_type": "stream",
     "text": [
      "torch.Size([10, 128])\n"
     ]
    }
   ],
   "source": [
    "rnncell = nn.RNNCell(32, 128)\n",
    "h_t = torch.zeros((10,128)) # (batch_size, hidden_size)\n",
    "for i in range(data.shape[1]):\n",
    "    x_t = data[:,i,:]\n",
    "    h_t = rnncell(x_t, h_t)\n",
    "    print(h_t.shape)    \n",
    "    break"
   ]
  },
  {
   "cell_type": "code",
   "execution_count": 84,
   "metadata": {},
   "outputs": [
    {
     "name": "stdout",
     "output_type": "stream",
     "text": [
      "torch.Size([10, 5, 128])\n",
      "torch.Size([1, 10, 128])\n"
     ]
    }
   ],
   "source": [
    "print(output.shape) # (batch_size, seq_len, hidden_size)\n",
    "print(h_n.shape) # (1, batch_size, hidden_size)"
   ]
  },
  {
   "cell_type": "code",
   "execution_count": 111,
   "metadata": {},
   "outputs": [],
   "source": [
    "config = {\n",
    "    \"batch_size\":16,\n",
    "    \"epoch\":10,\n",
    "    \"lr\":1e-3,\n",
    "    \"device\":\"cuda\" if torch.cuda.is_available() else \"cpu\"\n",
    "}\n"
   ]
  },
  {
   "cell_type": "code",
   "execution_count": 86,
   "metadata": {},
   "outputs": [],
   "source": [
    "ds_train = MNIST(\"../data\", download=True, train=True, transform=ToTensor())\n",
    "dl_train = DataLoader(ds_train, config[\"batch_size\"], shuffle=True)"
   ]
  },
  {
   "cell_type": "code",
   "execution_count": 87,
   "metadata": {},
   "outputs": [
    {
     "data": {
      "text/plain": [
       "torch.Size([16, 1, 28, 28])"
      ]
     },
     "execution_count": 87,
     "metadata": {},
     "output_type": "execute_result"
    }
   ],
   "source": [
    "#  查看图片 shape\n",
    "next(iter(dl_train))[0].shape # (batch_size, C, H, W)"
   ]
  },
  {
   "cell_type": "code",
   "execution_count": 88,
   "metadata": {},
   "outputs": [],
   "source": [
    "class MinistClassifier(nn.Module):\n",
    "    def __init__(self, input_size, hidden_size, num_labels):\n",
    "        super().__init__()\n",
    "        self.rnn = nn.RNN(input_size, hidden_size, batch_first=True)\n",
    "        self.fc = nn.Linear(hidden_size, num_labels)\n",
    "\n",
    "    def forward(self, X):\n",
    "        output, h_t = self.rnn(X)\n",
    "        return self.fc(h_t[0])"
   ]
  },
  {
   "cell_type": "code",
   "execution_count": 89,
   "metadata": {},
   "outputs": [],
   "source": [
    "class MinistClassifierAdv(nn.Module):\n",
    "    def __init__(self, input_size, hidden_size, num_labels):\n",
    "        super().__init__()\n",
    "        self.rnn = nn.LSTM(input_size, hidden_size, batch_first=True)\n",
    "        self.fc = nn.Linear(hidden_size, num_labels)\n",
    "\n",
    "    def forward(self, X):\n",
    "        output, (h_t, c_t) = self.rnn(X)\n",
    "        return self.fc(h_t[0])"
   ]
  },
  {
   "cell_type": "code",
   "execution_count": 90,
   "metadata": {},
   "outputs": [],
   "source": [
    "# data.shape    # torch.Size([10, 5, 32])\n",
    "# model = MinistClassifier(32, 64, 10)\n",
    "# model(data).shape     # torch.Size([10, 10])"
   ]
  },
  {
   "cell_type": "code",
   "execution_count": 92,
   "metadata": {},
   "outputs": [
    {
     "name": "stderr",
     "output_type": "stream",
     "text": [
      "epoch: 1, loss: 0.6060: 100%|██████████| 3750/3750 [00:14<00:00, 263.82it/s]\n",
      "epoch: 2, loss: 0.3385: 100%|██████████| 3750/3750 [00:13<00:00, 272.53it/s]\n"
     ]
    }
   ],
   "source": [
    "model_rnn = MinistClassifier(28, 100, 10)\n",
    "optimizer = torch.optim.Adam(model_rnn.parameters(), lr=config[\"lr\"])\n",
    "loss_fn = nn.CrossEntropyLoss()\n",
    "model_rnn = model_rnn.to(config[\"device\"])\n",
    "loss_fn = loss_fn.to(config[\"device\"])\n",
    "for epoch in range(config[\"epoch\"]):\n",
    "    process_bar = tqdm(dl_train)\n",
    "    model_rnn.train()\n",
    "    total_loss = 0\n",
    "    for i, (img, label) in enumerate(process_bar, start=1):\n",
    "        img, label = img.squeeze().to(config[\"device\"]), label.to(config[\"device\"])\n",
    "        y_hat = model_rnn(img)\n",
    "        loss = loss_fn(y_hat, label)\n",
    "        total_loss += loss\n",
    "        optimizer.zero_grad()\n",
    "        loss.backward()\n",
    "        optimizer.step()\n",
    "        process_bar.set_description(f\"epoch: {epoch + 1}, loss: {loss.item():.4f}\")\n",
    "\n"
   ]
  },
  {
   "cell_type": "code",
   "execution_count": 110,
   "metadata": {},
   "outputs": [
    {
     "name": "stderr",
     "output_type": "stream",
     "text": [
      "epoch: 1, loss: 0.0810: 100%|██████████| 3750/3750 [00:19<00:00, 193.88it/s]\n",
      "epoch: 2, loss: 0.2359: 100%|██████████| 3750/3750 [00:18<00:00, 197.52it/s]\n"
     ]
    }
   ],
   "source": [
    "model_lstm = MinistClassifierAdv(28, 100, 10)\n",
    "optimizer = torch.optim.Adam(model_lstm.parameters(), lr=config[\"lr\"])\n",
    "loss_fn = nn.CrossEntropyLoss()\n",
    "model_lstm = model_lstm.to(config[\"device\"])\n",
    "loss_fn = loss_fn.to(config[\"device\"])\n",
    "for epoch in range(config[\"epoch\"]):\n",
    "    process_bar = tqdm(dl_train)\n",
    "    model_lstm.train()\n",
    "    total_loss = 0\n",
    "    for i, (img, label) in enumerate(process_bar, start=1):\n",
    "        img, label = img.squeeze().to(config[\"device\"]), label.to(config[\"device\"])\n",
    "        y_hat = model_lstm(img)\n",
    "        loss = loss_fn(y_hat, label)\n",
    "        total_loss += loss\n",
    "        optimizer.zero_grad()\n",
    "        loss.backward()\n",
    "        optimizer.step()\n",
    "        process_bar.set_description(f\"epoch: {epoch + 1}, loss: {loss.item():.4f}\")\n",
    "\n"
   ]
  },
  {
   "cell_type": "code",
   "execution_count": 112,
   "metadata": {},
   "outputs": [
    {
     "name": "stderr",
     "output_type": "stream",
     "text": [
      "epoch: 1, loss: 0.0502: 100%|██████████| 3750/3750 [00:22<00:00, 169.47it/s]\n",
      "epoch: 2, loss: 0.0018: 100%|██████████| 3750/3750 [00:21<00:00, 173.98it/s]\n",
      "epoch: 3, loss: 0.2013: 100%|██████████| 3750/3750 [00:21<00:00, 170.92it/s]\n",
      "epoch: 4, loss: 0.0253: 100%|██████████| 3750/3750 [00:22<00:00, 166.33it/s]\n",
      "epoch: 5, loss: 0.0010: 100%|██████████| 3750/3750 [00:21<00:00, 173.05it/s]\n",
      "epoch: 6, loss: 0.2020: 100%|██████████| 3750/3750 [00:21<00:00, 170.76it/s]\n",
      "epoch: 7, loss: 0.0003: 100%|██████████| 3750/3750 [00:21<00:00, 170.72it/s]\n",
      "epoch: 8, loss: 0.0034: 100%|██████████| 3750/3750 [00:21<00:00, 173.22it/s]\n",
      "epoch: 9, loss: 0.0330: 100%|██████████| 3750/3750 [00:21<00:00, 174.15it/s]\n",
      "epoch: 10, loss: 0.0005: 100%|██████████| 3750/3750 [00:21<00:00, 171.40it/s]\n"
     ]
    }
   ],
   "source": [
    "class MinistClassifierAdvBidireciton(nn.Module):\n",
    "    def __init__(self, input_size, hidden_size, num_labels):\n",
    "        super().__init__()\n",
    "        self.rnn = nn.LSTM(input_size, hidden_size, batch_first=True, bidirectional=True, num_layers=2)\n",
    "        self.fc = nn.Linear(hidden_size * (2 if self.rnn.bidirectional == True else 1)\n",
    "                            , num_labels)\n",
    "\n",
    "    def forward(self, X):\n",
    "        output, (h_t, c_t) = self.rnn(X)\n",
    "        return self.fc(output[:,-1,:])\n",
    "    \n",
    "model_bidirection_lstm = MinistClassifierAdvBidireciton(28, 100, 10)\n",
    "optimizer = torch.optim.Adam(model_bidirection_lstm.parameters(), lr=config[\"lr\"])\n",
    "loss_fn = nn.CrossEntropyLoss()\n",
    "model_bidirection_lstm = model_bidirection_lstm.to(config[\"device\"])\n",
    "loss_fn = loss_fn.to(config[\"device\"])\n",
    "for epoch in range(config[\"epoch\"]):\n",
    "    process_bar = tqdm(dl_train)\n",
    "    model_bidirection_lstm.train()\n",
    "    total_loss = 0\n",
    "    for i, (img, label) in enumerate(process_bar, start=1):\n",
    "        img, label = img.squeeze().to(config[\"device\"]), label.to(config[\"device\"])\n",
    "        y_hat = model_bidirection_lstm(img)\n",
    "        loss = loss_fn(y_hat, label)\n",
    "        total_loss += loss\n",
    "        optimizer.zero_grad()\n",
    "        loss.backward()\n",
    "        optimizer.step()\n",
    "        process_bar.set_description(f\"epoch: {epoch + 1}, loss: {loss.item():.4f}\")\n",
    "\n"
   ]
  },
  {
   "cell_type": "code",
   "execution_count": 113,
   "metadata": {},
   "outputs": [],
   "source": [
    "torch.save(model_bidirection_lstm.state_dict(), \"../source/model_dict/lstm_mini_cls.pth\")"
   ]
  },
  {
   "cell_type": "code",
   "execution_count": null,
   "metadata": {},
   "outputs": [],
   "source": []
  },
  {
   "cell_type": "code",
   "execution_count": null,
   "metadata": {},
   "outputs": [],
   "source": []
  },
  {
   "cell_type": "code",
   "execution_count": null,
   "metadata": {},
   "outputs": [],
   "source": []
  },
  {
   "cell_type": "code",
   "execution_count": null,
   "metadata": {},
   "outputs": [],
   "source": []
  },
  {
   "cell_type": "code",
   "execution_count": null,
   "metadata": {},
   "outputs": [],
   "source": []
  }
 ],
 "metadata": {
  "kernelspec": {
   "display_name": "d2l",
   "language": "python",
   "name": "python3"
  },
  "language_info": {
   "codemirror_mode": {
    "name": "ipython",
    "version": 3
   },
   "file_extension": ".py",
   "mimetype": "text/x-python",
   "name": "python",
   "nbconvert_exporter": "python",
   "pygments_lexer": "ipython3",
   "version": "3.10.15"
  }
 },
 "nbformat": 4,
 "nbformat_minor": 2
}
